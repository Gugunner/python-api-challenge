{
 "cells": [
  {
   "cell_type": "markdown",
   "metadata": {},
   "source": [
    "# VacationPy\n",
    "----\n",
    "\n",
    "#### Note\n",
    "* Instructions have been included for each segment. You do not have to follow them exactly, but they are included to help you think through the steps."
   ]
  },
  {
   "cell_type": "code",
   "execution_count": 99,
   "metadata": {},
   "outputs": [],
   "source": [
    "# Dependencies and Setup\n",
    "import matplotlib.pyplot as plt\n",
    "import pandas as pd\n",
    "import numpy as np\n",
    "import requests\n",
    "import gmaps\n",
    "import os\n",
    "import pprint\n",
    "import json\n",
    "\n",
    "# Import API key\n",
    "from api_keys import g_key\n"
   ]
  },
  {
   "cell_type": "markdown",
   "metadata": {},
   "source": [
    "### Store Part I results into DataFrame\n",
    "* Load the csv exported in Part I to a DataFrame"
   ]
  },
  {
   "cell_type": "code",
   "execution_count": 73,
   "metadata": {},
   "outputs": [
    {
     "data": {
      "text/html": [
       "<div>\n",
       "<style scoped>\n",
       "    .dataframe tbody tr th:only-of-type {\n",
       "        vertical-align: middle;\n",
       "    }\n",
       "\n",
       "    .dataframe tbody tr th {\n",
       "        vertical-align: top;\n",
       "    }\n",
       "\n",
       "    .dataframe thead th {\n",
       "        text-align: right;\n",
       "    }\n",
       "</style>\n",
       "<table border=\"1\" class=\"dataframe\">\n",
       "  <thead>\n",
       "    <tr style=\"text-align: right;\">\n",
       "      <th></th>\n",
       "      <th>City</th>\n",
       "      <th>Latitude</th>\n",
       "      <th>Longitude</th>\n",
       "      <th>Temperature</th>\n",
       "      <th>Humidity</th>\n",
       "      <th>Cloudiness</th>\n",
       "      <th>Wind Speed</th>\n",
       "    </tr>\n",
       "  </thead>\n",
       "  <tbody>\n",
       "    <tr>\n",
       "      <th>0</th>\n",
       "      <td>Aasiaat</td>\n",
       "      <td>68.71</td>\n",
       "      <td>-52.87</td>\n",
       "      <td>31.64</td>\n",
       "      <td>95</td>\n",
       "      <td>100</td>\n",
       "      <td>8.03</td>\n",
       "    </tr>\n",
       "    <tr>\n",
       "      <th>1</th>\n",
       "      <td>Abalak</td>\n",
       "      <td>58.13</td>\n",
       "      <td>68.59</td>\n",
       "      <td>36.14</td>\n",
       "      <td>89</td>\n",
       "      <td>14</td>\n",
       "      <td>7.38</td>\n",
       "    </tr>\n",
       "    <tr>\n",
       "      <th>2</th>\n",
       "      <td>Abu Samrah</td>\n",
       "      <td>35.30</td>\n",
       "      <td>37.18</td>\n",
       "      <td>57.15</td>\n",
       "      <td>69</td>\n",
       "      <td>0</td>\n",
       "      <td>9.01</td>\n",
       "    </tr>\n",
       "    <tr>\n",
       "      <th>3</th>\n",
       "      <td>Acapulco</td>\n",
       "      <td>16.86</td>\n",
       "      <td>-99.89</td>\n",
       "      <td>86.00</td>\n",
       "      <td>66</td>\n",
       "      <td>20</td>\n",
       "      <td>12.75</td>\n",
       "    </tr>\n",
       "    <tr>\n",
       "      <th>4</th>\n",
       "      <td>Adiake</td>\n",
       "      <td>5.29</td>\n",
       "      <td>-3.30</td>\n",
       "      <td>86.00</td>\n",
       "      <td>84</td>\n",
       "      <td>40</td>\n",
       "      <td>10.29</td>\n",
       "    </tr>\n",
       "  </tbody>\n",
       "</table>\n",
       "</div>"
      ],
      "text/plain": [
       "         City  Latitude  Longitude  Temperature  Humidity  Cloudiness  \\\n",
       "0     Aasiaat     68.71     -52.87        31.64        95         100   \n",
       "1      Abalak     58.13      68.59        36.14        89          14   \n",
       "2  Abu Samrah     35.30      37.18        57.15        69           0   \n",
       "3    Acapulco     16.86     -99.89        86.00        66          20   \n",
       "4      Adiake      5.29      -3.30        86.00        84          40   \n",
       "\n",
       "   Wind Speed  \n",
       "0        8.03  \n",
       "1        7.38  \n",
       "2        9.01  \n",
       "3       12.75  \n",
       "4       10.29  "
      ]
     },
     "execution_count": 73,
     "metadata": {},
     "output_type": "execute_result"
    }
   ],
   "source": [
    "cities_df = pd.read_csv('../Resources/Cities.csv')\n",
    "cities_df = cities_df.drop(columns='Unnamed: 0')\n",
    "\n",
    "cities_df.head()\n"
   ]
  },
  {
   "cell_type": "markdown",
   "metadata": {},
   "source": [
    "### Humidity Heatmap\n",
    "* Configure gmaps.\n",
    "* Use the Lat and Lng as locations and Humidity as the weight.\n",
    "* Add Heatmap layer to map."
   ]
  },
  {
   "cell_type": "code",
   "execution_count": 118,
   "metadata": {},
   "outputs": [
    {
     "data": {
      "application/vnd.jupyter.widget-view+json": {
       "model_id": "d0aafd02965144918a3b51094fae9a7a",
       "version_major": 2,
       "version_minor": 0
      },
      "text/plain": [
       "Figure(layout=FigureLayout(border='1px solid black', height='600px', margin='0 auto', padding='5px', width='80…"
      ]
     },
     "metadata": {},
     "output_type": "display_data"
    }
   ],
   "source": [
    "gmaps.configure(api_key=g_key)\n",
    "humidity_locations = cities_df[['Latitude', 'Longitude']]\n",
    "humidity = cities_df['Humidity']\n",
    "layout = {\n",
    "    'width': '800px',\n",
    "    'height': '600px',\n",
    "    'border': '1px solid black',\n",
    "    'padding': '5px',\n",
    "    'margin': '0 auto'\n",
    "}\n",
    "heatmap_fig = gmaps.figure(center = (19.4326,-99.1332), zoom_level=3, layout=layout)\n",
    "heat_layer = gmaps.heatmap_layer(\n",
    "    humidity_locations,\n",
    "    weights = humidity,\n",
    "    dissipating = False,\n",
    "    max_intensity = 100,\n",
    "    point_radius = 1\n",
    ")\n",
    "heatmap_fig.add_layer(heat_layer)\n",
    "heatmap_fig\n"
   ]
  },
  {
   "cell_type": "code",
   "execution_count": null,
   "metadata": {},
   "outputs": [],
   "source": [
    "\n"
   ]
  },
  {
   "cell_type": "markdown",
   "metadata": {},
   "source": [
    "### Create new DataFrame fitting weather criteria\n",
    "* Narrow down the cities to fit weather conditions.\n",
    "* Drop any rows will null values."
   ]
  },
  {
   "cell_type": "code",
   "execution_count": 119,
   "metadata": {},
   "outputs": [],
   "source": [
    "max_temp = 77\n",
    "min_temp = 57.2\n",
    "wind_speed_lim = 6\n",
    "cloudiness = 40\n",
    "vacation_cities_df = cities_df[\n",
    "    (cities_df['Temperature'] >= min_temp) & \n",
    "    (cities_df['Temperature'] <= max_temp) &\n",
    "    (cities_df['Wind Speed'] <= wind_speed_lim) &\n",
    "    (cities_df['Cloudiness'] <= cloudiness)\n",
    "]\n",
    "\n",
    "vacation_cities_df = vacation_cities_df.reset_index()\n"
   ]
  },
  {
   "cell_type": "markdown",
   "metadata": {},
   "source": [
    "### Hotel Map\n",
    "* Store into variable named `hotel_df`.\n",
    "* Add a \"Hotel Name\" column to the DataFrame.\n",
    "* Set parameters to search for hotels with 5000 meters.\n",
    "* Hit the Google Places API for each city's coordinates.\n",
    "* Store the first Hotel result into the DataFrame.\n",
    "* Plot markers on top of the heatmap."
   ]
  },
  {
   "cell_type": "code",
   "execution_count": 98,
   "metadata": {
    "scrolled": true
   },
   "outputs": [
    {
     "name": "stdout",
     "output_type": "stream",
     "text": [
      "(43, 10)\n"
     ]
    },
    {
     "data": {
      "text/html": [
       "<div>\n",
       "<style scoped>\n",
       "    .dataframe tbody tr th:only-of-type {\n",
       "        vertical-align: middle;\n",
       "    }\n",
       "\n",
       "    .dataframe tbody tr th {\n",
       "        vertical-align: top;\n",
       "    }\n",
       "\n",
       "    .dataframe thead th {\n",
       "        text-align: right;\n",
       "    }\n",
       "</style>\n",
       "<table border=\"1\" class=\"dataframe\">\n",
       "  <thead>\n",
       "    <tr style=\"text-align: right;\">\n",
       "      <th></th>\n",
       "      <th>index</th>\n",
       "      <th>City</th>\n",
       "      <th>Latitude</th>\n",
       "      <th>Longitude</th>\n",
       "      <th>Temperature</th>\n",
       "      <th>Humidity</th>\n",
       "      <th>Cloudiness</th>\n",
       "      <th>Wind Speed</th>\n",
       "      <th>Hotel Name</th>\n",
       "      <th>Country</th>\n",
       "    </tr>\n",
       "  </thead>\n",
       "  <tbody>\n",
       "    <tr>\n",
       "      <th>0</th>\n",
       "      <td>8</td>\n",
       "      <td>Agadir</td>\n",
       "      <td>30.42</td>\n",
       "      <td>-9.60</td>\n",
       "      <td>64.40</td>\n",
       "      <td>88</td>\n",
       "      <td>0</td>\n",
       "      <td>3.36</td>\n",
       "      <td></td>\n",
       "      <td></td>\n",
       "    </tr>\n",
       "    <tr>\n",
       "      <th>1</th>\n",
       "      <td>10</td>\n",
       "      <td>Airai</td>\n",
       "      <td>-8.93</td>\n",
       "      <td>125.41</td>\n",
       "      <td>57.22</td>\n",
       "      <td>72</td>\n",
       "      <td>27</td>\n",
       "      <td>3.83</td>\n",
       "      <td></td>\n",
       "      <td></td>\n",
       "    </tr>\n",
       "    <tr>\n",
       "      <th>2</th>\n",
       "      <td>25</td>\n",
       "      <td>Ambovombe</td>\n",
       "      <td>-25.17</td>\n",
       "      <td>46.08</td>\n",
       "      <td>67.08</td>\n",
       "      <td>79</td>\n",
       "      <td>0</td>\n",
       "      <td>1.23</td>\n",
       "      <td></td>\n",
       "      <td></td>\n",
       "    </tr>\n",
       "    <tr>\n",
       "      <th>3</th>\n",
       "      <td>29</td>\n",
       "      <td>Anshun</td>\n",
       "      <td>26.25</td>\n",
       "      <td>105.93</td>\n",
       "      <td>61.38</td>\n",
       "      <td>60</td>\n",
       "      <td>37</td>\n",
       "      <td>1.16</td>\n",
       "      <td></td>\n",
       "      <td></td>\n",
       "    </tr>\n",
       "    <tr>\n",
       "      <th>4</th>\n",
       "      <td>57</td>\n",
       "      <td>Bethel</td>\n",
       "      <td>41.37</td>\n",
       "      <td>-73.41</td>\n",
       "      <td>68.22</td>\n",
       "      <td>30</td>\n",
       "      <td>1</td>\n",
       "      <td>5.82</td>\n",
       "      <td></td>\n",
       "      <td></td>\n",
       "    </tr>\n",
       "  </tbody>\n",
       "</table>\n",
       "</div>"
      ],
      "text/plain": [
       "   index       City  Latitude  Longitude  Temperature  Humidity  Cloudiness  \\\n",
       "0      8     Agadir     30.42      -9.60        64.40        88           0   \n",
       "1     10      Airai     -8.93     125.41        57.22        72          27   \n",
       "2     25  Ambovombe    -25.17      46.08        67.08        79           0   \n",
       "3     29     Anshun     26.25     105.93        61.38        60          37   \n",
       "4     57     Bethel     41.37     -73.41        68.22        30           1   \n",
       "\n",
       "   Wind Speed Hotel Name Country  \n",
       "0        3.36                     \n",
       "1        3.83                     \n",
       "2        1.23                     \n",
       "3        1.16                     \n",
       "4        5.82                     "
      ]
     },
     "execution_count": 98,
     "metadata": {},
     "output_type": "execute_result"
    }
   ],
   "source": [
    "#Do not run this unless you want to restart hotel data frame\n",
    "hotel_df = vacation_cities_df\n",
    "hotel_df['Hotel Name'] = ''\n",
    "hotel_df['Country'] = ''\n",
    "print(hotel_df.shape)\n",
    "hotel_df.head()"
   ]
  },
  {
   "cell_type": "code",
   "execution_count": 108,
   "metadata": {},
   "outputs": [
    {
     "name": "stdout",
     "output_type": "stream",
     "text": [
      "Could not get a hotel for the city Ikalamavony\n",
      "Could not get a hotel for the city Otse\n",
      "Could not get a hotel for the city Tsiroanomandidy\n"
     ]
    }
   ],
   "source": [
    "\n",
    "params = {\n",
    "    'types': 'lodging',\n",
    "    'radius': 5000,\n",
    "    'key': g_key\n",
    "}\n",
    "\n",
    "g_base_url = \"https://maps.googleapis.com/maps/api/place/nearbysearch/json\"\n",
    "\n",
    "for (idx, row) in hotel_df.iterrows():\n",
    "    lat = row['Latitude']\n",
    "    lon = row['Longitude']\n",
    "    location = f'{lat}, {lon}'\n",
    "    params['location'] = location\n",
    "    response = requests.get(g_base_url, params=params).json()\n",
    "    try: \n",
    "        hotel_df.loc[idx, 'Hotel Name'] = response['results'][0]['name']\n",
    "        hotel_df.loc[idx, 'Country'] = response['results'][0]['plus_code']['compound_code'].split(',')[-1].strip()\n",
    "    except:\n",
    "        print(f'Could not get a hotel for the city {row[\"City\"]}')\n",
    "    "
   ]
  },
  {
   "cell_type": "code",
   "execution_count": 124,
   "metadata": {},
   "outputs": [],
   "source": [
    "hotel_df = hotel_df[hotel_df['Hotel Name'] != '']"
   ]
  },
  {
   "cell_type": "code",
   "execution_count": 121,
   "metadata": {},
   "outputs": [],
   "source": [
    "# NOTE: Do not change any of the code in this cell\n",
    "\n",
    "# Using the template add the hotel marks to the heatmap\n",
    "info_box_template = \"\"\"\n",
    "<dl>\n",
    "<dt>Name</dt><dd>{Hotel Name}</dd>\n",
    "<dt>City</dt><dd>{City}</dd>\n",
    "<dt>Country</dt><dd>{Country}</dd>\n",
    "</dl>\n",
    "\"\"\"\n",
    "# Store the DataFrame Row\n",
    "# NOTE: be sure to update with your DataFrame name\n",
    "hotel_info = [info_box_template.format(**row) for index, row in hotel_df.iterrows()]\n",
    "locations = hotel_df[[\"Latitude\", \"Longitude\"]]"
   ]
  },
  {
   "cell_type": "code",
   "execution_count": 122,
   "metadata": {},
   "outputs": [
    {
     "data": {
      "text/plain": [
       "(40, 2)"
      ]
     },
     "execution_count": 122,
     "metadata": {},
     "output_type": "execute_result"
    }
   ],
   "source": [
    "locations.shape"
   ]
  },
  {
   "cell_type": "code",
   "execution_count": 135,
   "metadata": {},
   "outputs": [
    {
     "data": {
      "application/vnd.jupyter.widget-view+json": {
       "model_id": "d0aafd02965144918a3b51094fae9a7a",
       "version_major": 2,
       "version_minor": 0
      },
      "text/plain": [
       "Figure(layout=FigureLayout(border='1px solid black', height='600px', margin='0 auto', padding='5px', width='80…"
      ]
     },
     "metadata": {},
     "output_type": "display_data"
    }
   ],
   "source": [
    "# Add marker layer ontop of heat map\n",
    "markers = gmaps.marker_layer(locations)\n",
    "hotel_names = list(hotel_df['Hotel Name'])\n",
    "marker_layer = gmaps.marker_layer(locations, info_box_content=hotel_info, hover_text=hotel_names, display_info_box=True)\n",
    "heatmap_fig.add_layer(markers)\n",
    "heatmap_fig.add_layer(marker_layer)\n",
    "heatmap_fig\n",
    "# Display Map"
   ]
  },
  {
   "cell_type": "code",
   "execution_count": null,
   "metadata": {},
   "outputs": [],
   "source": []
  }
 ],
 "metadata": {
  "kernelspec": {
   "display_name": "PyCharm (Bootcamp-data-analytics-homeworks)",
   "language": "python",
   "name": "pycharm-b9b1413e"
  },
  "language_info": {
   "codemirror_mode": {
    "name": "ipython",
    "version": 3
   },
   "file_extension": ".py",
   "mimetype": "text/x-python",
   "name": "python",
   "nbconvert_exporter": "python",
   "pygments_lexer": "ipython3",
   "version": "3.7.6"
  },
  "latex_envs": {
   "LaTeX_envs_menu_present": true,
   "autoclose": false,
   "autocomplete": true,
   "bibliofile": "biblio.bib",
   "cite_by": "apalike",
   "current_citInitial": 1,
   "eqLabelWithNumbers": true,
   "eqNumInitial": 1,
   "hotkeys": {
    "equation": "Ctrl-E",
    "itemize": "Ctrl-I"
   },
   "labels_anchors": false,
   "latex_user_defs": false,
   "report_style_numbering": false,
   "user_envs_cfg": false
  }
 },
 "nbformat": 4,
 "nbformat_minor": 2
}
